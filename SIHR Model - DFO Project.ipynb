{
 "cells": [
  {
   "cell_type": "markdown",
   "id": "d8b3a0fa",
   "metadata": {},
   "source": [
    "# SIHR Model - DFO Project\n",
    "Supervised by: Prof. Laurent Dumas\n",
    "\n",
    "Done by:- \n",
    "1. Mohammed Abdallah\n",
    "2. Iyad Walwil "
   ]
  },
  {
   "cell_type": "markdown",
   "id": "bb99343c",
   "metadata": {},
   "source": [
    "### The Problem to Solve\n",
    "\n",
    "We modeled the ***COVID epidemy*** with a ***SIHR*** model fitted with the real data during March and June 2020\n",
    "\n",
    "(Precisely, March 18, 2020, until June 15, 2020)"
   ]
  },
  {
   "cell_type": "markdown",
   "id": "7e5f0ce7",
   "metadata": {},
   "source": [
    "#### The Real Data We Used\n",
    "\n",
    "You can find and download the data we used on the website \"https://www.data.gouv.fr/fr/datasets/donnees-hospitalieres-relatives-a-lepidemie-de-covid-19/#resource-d04f08bb-c79d-4801-bc11-d3565c1886a8-header\" with the title \"donnees-hospitalieres-groupees-covid19-2020-10-19-19h00\""
   ]
  },
  {
   "cell_type": "markdown",
   "id": "4113717e",
   "metadata": {},
   "source": [
    "### Problem Modeling\n",
    "\n",
    "* $S(t)$: Fraction number of susceptible individuals \n",
    "* $I(t)$: Fraction number of ill-people\n",
    "* $H(t)$: Fraction number of ill and hospitalized people (**real data**)\n",
    "* $R(t)$: Fraction number of recovered people (or dead)\n",
    "\n",
    "Such that:- \n",
    "\n",
    "$$S + I + H + R = 1$$\n",
    "\n",
    "\\begin{cases}\n",
    "\\frac{dS}{dt}(t) = - \\beta(t) S(t) I(t) ~~~~~ \\beta \\geq 0 \\\\\n",
    "\\frac{dI}{dt}(t) =  \\beta(t) S(t) I(t) - \\alpha I(t) - \\gamma_1 I(t) \\\\\n",
    "\\frac{dH}{dt}(t) =  \\alpha I(t) - \\gamma_2 H(t) \\\\\n",
    "\\frac{dR}{dt}(t) =  \\gamma_1 I(t) + \\gamma_2 H(t)\n",
    "\\end{cases}\n",
    "\n",
    "Note that, Because of lockdown, we assume that $\\beta$ has an exponentially decreasing shape:- \n",
    "\n",
    "$$\\beta(t) = c\\exp(- \\lambda t)$$"
   ]
  },
  {
   "cell_type": "markdown",
   "id": "8dfe29c3",
   "metadata": {},
   "source": [
    "### The Function to Minimize \n",
    "\n",
    "We aim to minimize the following function \n",
    "$$(c, \\lambda, \\alpha, \\gamma_1, \\gamma_2) \\mapsto \\sum_{\\text{days}} (H_{model} - H_{data})^2$$"
   ]
  },
  {
   "cell_type": "markdown",
   "id": "8aac434b",
   "metadata": {},
   "source": [
    "##### Importing the needed libraries "
   ]
  },
  {
   "cell_type": "code",
   "execution_count": null,
   "id": "d736fc95",
   "metadata": {},
   "outputs": [],
   "source": [
    "pip install pdfo         # Installing pdfo"
   ]
  },
  {
   "cell_type": "code",
   "execution_count": 1,
   "id": "c65c9e27",
   "metadata": {},
   "outputs": [],
   "source": [
    "import numpy as np\n",
    "import pandas as pd\n",
    "from matplotlib import pyplot as plt\n",
    "from pdfo import pdfo"
   ]
  },
  {
   "cell_type": "markdown",
   "id": "15005fa6",
   "metadata": {},
   "source": [
    "##### Reading the data"
   ]
  },
  {
   "cell_type": "code",
   "execution_count": 53,
   "id": "20f183e2",
   "metadata": {},
   "outputs": [
    {
     "data": {
      "text/html": [
       "<div>\n",
       "<style scoped>\n",
       "    .dataframe tbody tr th:only-of-type {\n",
       "        vertical-align: middle;\n",
       "    }\n",
       "\n",
       "    .dataframe tbody tr th {\n",
       "        vertical-align: top;\n",
       "    }\n",
       "\n",
       "    .dataframe thead th {\n",
       "        text-align: right;\n",
       "    }\n",
       "</style>\n",
       "<table border=\"1\" class=\"dataframe\">\n",
       "  <thead>\n",
       "    <tr style=\"text-align: right;\">\n",
       "      <th></th>\n",
       "      <th>jour</th>\n",
       "      <th>hosp</th>\n",
       "      <th>rea</th>\n",
       "      <th>rad</th>\n",
       "      <th>dc</th>\n",
       "    </tr>\n",
       "  </thead>\n",
       "  <tbody>\n",
       "    <tr>\n",
       "      <th>0</th>\n",
       "      <td>18/03/2020</td>\n",
       "      <td>2972</td>\n",
       "      <td>771</td>\n",
       "      <td>816</td>\n",
       "      <td>218</td>\n",
       "    </tr>\n",
       "    <tr>\n",
       "      <th>1</th>\n",
       "      <td>19/03/2020</td>\n",
       "      <td>4073</td>\n",
       "      <td>1002</td>\n",
       "      <td>1180</td>\n",
       "      <td>327</td>\n",
       "    </tr>\n",
       "    <tr>\n",
       "      <th>2</th>\n",
       "      <td>20/03/2020</td>\n",
       "      <td>5226</td>\n",
       "      <td>1297</td>\n",
       "      <td>1587</td>\n",
       "      <td>450</td>\n",
       "    </tr>\n",
       "    <tr>\n",
       "      <th>3</th>\n",
       "      <td>21/03/2020</td>\n",
       "      <td>5900</td>\n",
       "      <td>1453</td>\n",
       "      <td>1811</td>\n",
       "      <td>525</td>\n",
       "    </tr>\n",
       "    <tr>\n",
       "      <th>4</th>\n",
       "      <td>22/03/2020</td>\n",
       "      <td>6954</td>\n",
       "      <td>1674</td>\n",
       "      <td>2117</td>\n",
       "      <td>632</td>\n",
       "    </tr>\n",
       "  </tbody>\n",
       "</table>\n",
       "</div>"
      ],
      "text/plain": [
       "         jour  hosp   rea   rad   dc\n",
       "0  18/03/2020  2972   771   816  218\n",
       "1  19/03/2020  4073  1002  1180  327\n",
       "2  20/03/2020  5226  1297  1587  450\n",
       "3  21/03/2020  5900  1453  1811  525\n",
       "4  22/03/2020  6954  1674  2117  632"
      ]
     },
     "execution_count": 53,
     "metadata": {},
     "output_type": "execute_result"
    }
   ],
   "source": [
    "full_data = pd.read_csv('data/donnees-hospitalieres-groupees-covid19-2020-10-19-19h00.csv', sep=';') # March - October 2020\n",
    "data = full_data[:90]         # Required data (March - June 2020)\n",
    "data.head()"
   ]
  },
  {
   "cell_type": "markdown",
   "id": "8044cf9a",
   "metadata": {},
   "source": [
    "###### Keeping the needed columns and getting rid of the others\n",
    "\n",
    "We are just interested in the ***hosp*** column with the ***jour*** one "
   ]
  },
  {
   "cell_type": "code",
   "execution_count": 54,
   "id": "19909b7a",
   "metadata": {},
   "outputs": [],
   "source": [
    "data = data.drop(columns=['rea', 'rad', 'dc'])  # dropping the not required columns "
   ]
  },
  {
   "cell_type": "code",
   "execution_count": 55,
   "id": "46174a6d",
   "metadata": {},
   "outputs": [
    {
     "data": {
      "text/html": [
       "<div>\n",
       "<style scoped>\n",
       "    .dataframe tbody tr th:only-of-type {\n",
       "        vertical-align: middle;\n",
       "    }\n",
       "\n",
       "    .dataframe tbody tr th {\n",
       "        vertical-align: top;\n",
       "    }\n",
       "\n",
       "    .dataframe thead th {\n",
       "        text-align: right;\n",
       "    }\n",
       "</style>\n",
       "<table border=\"1\" class=\"dataframe\">\n",
       "  <thead>\n",
       "    <tr style=\"text-align: right;\">\n",
       "      <th></th>\n",
       "      <th>jour</th>\n",
       "      <th>hosp</th>\n",
       "    </tr>\n",
       "  </thead>\n",
       "  <tbody>\n",
       "    <tr>\n",
       "      <th>0</th>\n",
       "      <td>18/03/2020</td>\n",
       "      <td>2972</td>\n",
       "    </tr>\n",
       "    <tr>\n",
       "      <th>1</th>\n",
       "      <td>19/03/2020</td>\n",
       "      <td>4073</td>\n",
       "    </tr>\n",
       "    <tr>\n",
       "      <th>2</th>\n",
       "      <td>20/03/2020</td>\n",
       "      <td>5226</td>\n",
       "    </tr>\n",
       "    <tr>\n",
       "      <th>3</th>\n",
       "      <td>21/03/2020</td>\n",
       "      <td>5900</td>\n",
       "    </tr>\n",
       "    <tr>\n",
       "      <th>4</th>\n",
       "      <td>22/03/2020</td>\n",
       "      <td>6954</td>\n",
       "    </tr>\n",
       "    <tr>\n",
       "      <th>...</th>\n",
       "      <td>...</td>\n",
       "      <td>...</td>\n",
       "    </tr>\n",
       "    <tr>\n",
       "      <th>85</th>\n",
       "      <td>11/06/2020</td>\n",
       "      <td>11418</td>\n",
       "    </tr>\n",
       "    <tr>\n",
       "      <th>86</th>\n",
       "      <td>12/06/2020</td>\n",
       "      <td>11078</td>\n",
       "    </tr>\n",
       "    <tr>\n",
       "      <th>87</th>\n",
       "      <td>13/06/2020</td>\n",
       "      <td>10862</td>\n",
       "    </tr>\n",
       "    <tr>\n",
       "      <th>88</th>\n",
       "      <td>14/06/2020</td>\n",
       "      <td>10837</td>\n",
       "    </tr>\n",
       "    <tr>\n",
       "      <th>89</th>\n",
       "      <td>15/06/2020</td>\n",
       "      <td>10711</td>\n",
       "    </tr>\n",
       "  </tbody>\n",
       "</table>\n",
       "<p>90 rows × 2 columns</p>\n",
       "</div>"
      ],
      "text/plain": [
       "          jour   hosp\n",
       "0   18/03/2020   2972\n",
       "1   19/03/2020   4073\n",
       "2   20/03/2020   5226\n",
       "3   21/03/2020   5900\n",
       "4   22/03/2020   6954\n",
       "..         ...    ...\n",
       "85  11/06/2020  11418\n",
       "86  12/06/2020  11078\n",
       "87  13/06/2020  10862\n",
       "88  14/06/2020  10837\n",
       "89  15/06/2020  10711\n",
       "\n",
       "[90 rows x 2 columns]"
      ]
     },
     "execution_count": 55,
     "metadata": {},
     "output_type": "execute_result"
    }
   ],
   "source": [
    "data"
   ]
  },
  {
   "cell_type": "markdown",
   "id": "70f317f5",
   "metadata": {},
   "source": [
    "##### Data Normalization"
   ]
  },
  {
   "cell_type": "code",
   "execution_count": 56,
   "id": "c2edf2ba",
   "metadata": {},
   "outputs": [],
   "source": [
    "Pop = 67.39e6         # French Population\n",
    "data['hosp'] = data['hosp'].div(Pop)       # Normalization"
   ]
  },
  {
   "cell_type": "code",
   "execution_count": 57,
   "id": "2527c417",
   "metadata": {},
   "outputs": [
    {
     "data": {
      "text/html": [
       "<div>\n",
       "<style scoped>\n",
       "    .dataframe tbody tr th:only-of-type {\n",
       "        vertical-align: middle;\n",
       "    }\n",
       "\n",
       "    .dataframe tbody tr th {\n",
       "        vertical-align: top;\n",
       "    }\n",
       "\n",
       "    .dataframe thead th {\n",
       "        text-align: right;\n",
       "    }\n",
       "</style>\n",
       "<table border=\"1\" class=\"dataframe\">\n",
       "  <thead>\n",
       "    <tr style=\"text-align: right;\">\n",
       "      <th></th>\n",
       "      <th>jour</th>\n",
       "      <th>hosp</th>\n",
       "    </tr>\n",
       "  </thead>\n",
       "  <tbody>\n",
       "    <tr>\n",
       "      <th>0</th>\n",
       "      <td>18/03/2020</td>\n",
       "      <td>0.000044</td>\n",
       "    </tr>\n",
       "    <tr>\n",
       "      <th>1</th>\n",
       "      <td>19/03/2020</td>\n",
       "      <td>0.000060</td>\n",
       "    </tr>\n",
       "    <tr>\n",
       "      <th>2</th>\n",
       "      <td>20/03/2020</td>\n",
       "      <td>0.000078</td>\n",
       "    </tr>\n",
       "    <tr>\n",
       "      <th>3</th>\n",
       "      <td>21/03/2020</td>\n",
       "      <td>0.000088</td>\n",
       "    </tr>\n",
       "    <tr>\n",
       "      <th>4</th>\n",
       "      <td>22/03/2020</td>\n",
       "      <td>0.000103</td>\n",
       "    </tr>\n",
       "    <tr>\n",
       "      <th>...</th>\n",
       "      <td>...</td>\n",
       "      <td>...</td>\n",
       "    </tr>\n",
       "    <tr>\n",
       "      <th>85</th>\n",
       "      <td>11/06/2020</td>\n",
       "      <td>0.000169</td>\n",
       "    </tr>\n",
       "    <tr>\n",
       "      <th>86</th>\n",
       "      <td>12/06/2020</td>\n",
       "      <td>0.000164</td>\n",
       "    </tr>\n",
       "    <tr>\n",
       "      <th>87</th>\n",
       "      <td>13/06/2020</td>\n",
       "      <td>0.000161</td>\n",
       "    </tr>\n",
       "    <tr>\n",
       "      <th>88</th>\n",
       "      <td>14/06/2020</td>\n",
       "      <td>0.000161</td>\n",
       "    </tr>\n",
       "    <tr>\n",
       "      <th>89</th>\n",
       "      <td>15/06/2020</td>\n",
       "      <td>0.000159</td>\n",
       "    </tr>\n",
       "  </tbody>\n",
       "</table>\n",
       "<p>90 rows × 2 columns</p>\n",
       "</div>"
      ],
      "text/plain": [
       "          jour      hosp\n",
       "0   18/03/2020  0.000044\n",
       "1   19/03/2020  0.000060\n",
       "2   20/03/2020  0.000078\n",
       "3   21/03/2020  0.000088\n",
       "4   22/03/2020  0.000103\n",
       "..         ...       ...\n",
       "85  11/06/2020  0.000169\n",
       "86  12/06/2020  0.000164\n",
       "87  13/06/2020  0.000161\n",
       "88  14/06/2020  0.000161\n",
       "89  15/06/2020  0.000159\n",
       "\n",
       "[90 rows x 2 columns]"
      ]
     },
     "execution_count": 57,
     "metadata": {},
     "output_type": "execute_result"
    }
   ],
   "source": [
    "data      # Data is ready right now!"
   ]
  },
  {
   "cell_type": "markdown",
   "id": "03aa55d8",
   "metadata": {},
   "source": [
    "##### Converting the \"hospitalized\" data to an $1\\mathcal{D}$ array"
   ]
  },
  {
   "cell_type": "code",
   "execution_count": 58,
   "id": "0df85968",
   "metadata": {},
   "outputs": [
    {
     "name": "stdout",
     "output_type": "stream",
     "text": [
      "90\n"
     ]
    }
   ],
   "source": [
    "H_data = data['hosp'].to_numpy()   # Array containing the Hospitalized data\n",
    "n = len(H_data)\n",
    "print(n)\n",
    "# print(H_data)"
   ]
  },
  {
   "cell_type": "markdown",
   "id": "91040b46",
   "metadata": {},
   "source": [
    "#### Plotting the data"
   ]
  },
  {
   "cell_type": "code",
   "execution_count": 59,
   "id": "e8a165b6",
   "metadata": {},
   "outputs": [
    {
     "data": {
      "image/png": "[encoded data removed]",
      "text/plain": [
       "<Figure size 432x288 with 1 Axes>"
      ]
     },
     "metadata": {
      "needs_background": "light"
     },
     "output_type": "display_data"
    }
   ],
   "source": [
    "plt.close()\n",
    "plt.plot(H_data, color = 'orange', label = '$H_{data}$')\n",
    "plt.grid(which = 'both')\n",
    "plt.ylabel(\"$H_{value}$\", fontsize=20)\n",
    "plt.xlabel(\"Days\", fontsize=20)\n",
    "plt.legend(loc='upper right', fancybox=True, prop={'size':15}).get_frame().set_alpha(0.4)\n",
    "plt.show()"
   ]
  },
  {
   "cell_type": "markdown",
   "id": "53408f4e",
   "metadata": {},
   "source": [
    "### Solving the ,SIHR, ODE's System \n",
    "To solve the above system of ODE's, we used ***Euler's Method*** with:- \n",
    "1. **Initialization**\n",
    "\\begin{cases} S_0 = 1 - (I_0 + H_0 + R_0) \\\\ I_0 = 10 \\times H_0 \\\\   H_0 = H_{data_0} \\\\ R_0 = 0 \\end{cases}\n",
    "2. **Step Size** $$h = 0.01$$"
   ]
  },
  {
   "cell_type": "markdown",
   "id": "e63f7f8f",
   "metadata": {},
   "source": [
    "---------------------------------------"
   ]
  },
  {
   "cell_type": "markdown",
   "id": "4536648f",
   "metadata": {},
   "source": [
    "### Euler's Method \n",
    "\n",
    "Recall that for a given first order ODE, Euler's Method works as follows \n",
    "$$y_{n+1} = y_n + hf(t_n, y_n)$$\n",
    "\n",
    "Projecting this formula in our framework, we can treat $y_{n+1}$ as a $4 \\mathcal{D}$ vector where:- \n",
    "1. $y_{n} = \\begin{bmatrix} S_n \\\\ I_n \\\\ H_n \\\\ R_n \\end{bmatrix}$ $\\hspace{7cm}$ 2. $f(t_n, y_n) = \\begin{bmatrix} - \\beta(t) S(t) I(t) \\\\  \\beta(t) S(t) I(t) - \\alpha I(t) - \\gamma_1 I(t) \\\\ \\alpha I(t) - \\gamma_2 H(t)  \\\\ \\gamma_1 I(t) + \\gamma_2 H(t) \\end{bmatrix}$\n",
    "\n"
   ]
  },
  {
   "cell_type": "markdown",
   "id": "c124a971",
   "metadata": {},
   "source": [
    "-------------------------"
   ]
  },
  {
   "cell_type": "markdown",
   "id": "ee6b33af",
   "metadata": {},
   "source": [
    "#####  Initialization"
   ]
  },
  {
   "cell_type": "code",
   "execution_count": 60,
   "id": "b0a5e925",
   "metadata": {},
   "outputs": [
    {
     "name": "stdout",
     "output_type": "stream",
     "text": [
      "[9.99514884e-01 4.41014987e-04 4.41014987e-05 0.00000000e+00]\n"
     ]
    }
   ],
   "source": [
    "H_init = H_data[0]             \n",
    "I_init = 10*H_init\n",
    "R_init = 0\n",
    "S_init = 1 - (H_init + I_init + R_init)\n",
    "\n",
    "Y_init = np.array([S_init, I_init, H_init, R_init])\n",
    "print(Y_init)"
   ]
  },
  {
   "cell_type": "markdown",
   "id": "3341d878",
   "metadata": {},
   "source": [
    "####  Euler's Method Algorithm\n",
    "\n",
    "We have implemented in the next cell Euler's Method for some $t$"
   ]
  },
  {
   "cell_type": "code",
   "execution_count": 61,
   "id": "e138c22b",
   "metadata": {},
   "outputs": [],
   "source": [
    "def euler_Method(t, y_prev, x0, h = 0.01):\n",
    "    \n",
    "    \"\"\"  \n",
    "    param t: time \n",
    "    param y_prev: represnts y_n in Euler's Method \n",
    "    param x0: the values of c, lambda, alpha, gamma1, and gamma2\n",
    "    \n",
    "    \"\"\"\n",
    "    Y = np.zeros(4)    # Y(t) = [S(t), I(t), H(t), R(t)]\n",
    "    \n",
    "    c, Lambda, alpha, gamma1, gamma2 = x0[0], x0[1], x0[2], x0[3], x0[4]\n",
    "    \n",
    "    # Finding Y_t+1 by using Euler's Method \n",
    "    beta = c*np.exp(-Lambda*t)\n",
    "    Y[0] = y_prev[0] + h*(-beta*y_prev[0]*y_prev[1])\n",
    "    Y[1] = y_prev[1] + h*(beta*y_prev[0]*y_prev[1] - alpha*y_prev[1] - gamma1*y_prev[1])\n",
    "    Y[2] = y_prev[2] + h*(alpha*y_prev[1] - gamma2*y_prev[2])\n",
    "    Y[3] = y_prev[3] + h*(gamma1*y_prev[1] + gamma2*y_prev[2])\n",
    "    \n",
    "    return Y"
   ]
  },
  {
   "cell_type": "markdown",
   "id": "64862a4b",
   "metadata": {},
   "source": [
    "#### Computing of the Function to be Minimized\n",
    "\n",
    "Computing the function $$(c, \\lambda, \\alpha, \\gamma_1, \\gamma_2) \\mapsto \\sum_{\\text{days}} (H_{model} - H_{data})^2$$ to be minimzed afterwards by using several deterministic DFO algorithms "
   ]
  },
  {
   "cell_type": "code",
   "execution_count": 62,
   "id": "d9e91178",
   "metadata": {},
   "outputs": [],
   "source": [
    "def objective_function(x0, h = 0.01, y_init = Y_init):\n",
    "    \n",
    "    \"\"\"  \n",
    "    param x0: the values of c, lambda, alpha, gamma1, and gamma2 \n",
    "    param h: is the step size, 0.01 as default value \n",
    "    param y_init: the initialization of Euler's Method\n",
    "    \n",
    "    \"\"\"\n",
    "    S = 0           # Initial value of our objective function \n",
    "    L = []          # List contining H_model (Y[2]) since Y = [S, I, H, R]\n",
    "    Y = y_init\n",
    "    L.append(Y[2])\n",
    "    \n",
    "    for t in range(n):\n",
    "        TS = np.arange(t, t+1, h)         # Step size = 0.01 between any two days, so 100 evaluations \n",
    "        for tt in TS:\n",
    "            Y = euler_Method(tt, Y, x0)\n",
    "        L.append(Y[2])\n",
    "        S += (Y[2] - H_data[t])**2          # Constructing the Objective Function to minimize \n",
    "\n",
    "        \n",
    "    return (S,L)"
   ]
  },
  {
   "cell_type": "markdown",
   "id": "ea5535fb",
   "metadata": {},
   "source": [
    "************"
   ]
  },
  {
   "cell_type": "markdown",
   "id": "1d1a1004",
   "metadata": {},
   "source": [
    "## Direct Problem\n",
    "\n",
    "We are going to run our objective function with some arbitrary values of the parameters $(c, \\lambda, \\alpha, \\gamma_1, \\gamma_2)$ to find the $H_{model}$ values and observe how much it's close to $H_{data}$\n",
    "\n",
    "We will take the arbitrary values:- \n",
    "\\begin{cases}  c = 0.5 \\\\ \\lambda = 0.8 \\\\ \\alpha = 0.1 \\\\ \\gamma_1 = 0.1 \\\\ \\gamma_2 = 0.1 \\end{cases}"
   ]
  },
  {
   "cell_type": "code",
   "execution_count": 101,
   "id": "70a3fe39",
   "metadata": {},
   "outputs": [],
   "source": [
    "## Parameters\n",
    "c = 0.5\n",
    "Lambda = 0.8\n",
    "alpha = 0.1\n",
    "gamma1 = 0.1\n",
    "gamma2 = 0.1"
   ]
  },
  {
   "cell_type": "code",
   "execution_count": 102,
   "id": "a7544b8c",
   "metadata": {},
   "outputs": [
    {
     "name": "stdout",
     "output_type": "stream",
     "text": [
      "x0 =  [0.5 0.8 0.1 0.1 0.1]\n",
      "Objective Function =  7.808138671302364e-06\n"
     ]
    }
   ],
   "source": [
    "x0 = np.array([c, Lambda, alpha, gamma1, gamma2])\n",
    "print('x0 = ',x0)\n",
    "V = objective_function(x0)              # Objective Function value for the above parameters \n",
    "print('Objective Function = ', V[0])"
   ]
  },
  {
   "cell_type": "markdown",
   "id": "7bca23d7",
   "metadata": {},
   "source": [
    "#### $H_{model}$ with arbitrary values of the parameters Vs. $H_{data}$"
   ]
  },
  {
   "cell_type": "code",
   "execution_count": 103,
   "id": "2c665bac",
   "metadata": {},
   "outputs": [
    {
     "data": {
      "image/png": "[encoded data removed]",
      "text/plain": [
       "<Figure size 432x288 with 1 Axes>"
      ]
     },
     "metadata": {
      "needs_background": "light"
     },
     "output_type": "display_data"
    }
   ],
   "source": [
    "plt.close()\n",
    "plt.plot(H_data, color = 'orange', label = '$H_{data}$')\n",
    "plt.plot(V[1], color = 'blue', label = '$H_{model}$')\n",
    "plt.grid(which = 'both')\n",
    "plt.ylabel(\"$H_{value}$\", fontsize=20)\n",
    "plt.xlabel(\"Days\", fontsize=20)\n",
    "plt.legend(loc='upper right', fancybox=True, prop={'size':15}).get_frame().set_alpha(0.4)\n",
    "plt.show()"
   ]
  },
  {
   "cell_type": "markdown",
   "id": "0d314303",
   "metadata": {},
   "source": [
    "### Conclusion \n",
    "Obviously, with the chosen parameters we didn't have good values for $H_{model}$ which is logical since we chose them arbitrary\n",
    "\n",
    "However, we can improve the above results a lot by choosing better values of the parameters, this can be done by implementing the ***Inverse Problem***"
   ]
  },
  {
   "cell_type": "markdown",
   "id": "3da00b85",
   "metadata": {},
   "source": [
    "************"
   ]
  },
  {
   "cell_type": "markdown",
   "id": "6839320c",
   "metadata": {},
   "source": [
    "## Inverse Problem "
   ]
  },
  {
   "cell_type": "markdown",
   "id": "b52803e4",
   "metadata": {},
   "source": [
    "We applied 2 algorithms on our objective function in order to find out the optimal parameters and made some figures illustrate the performance of each of them. \n",
    "\n",
    "The applied algorithms:- \n",
    "1. Nelder Mead \n",
    "2. NEWUOA"
   ]
  },
  {
   "cell_type": "markdown",
   "id": "09696eb6",
   "metadata": {},
   "source": [
    "##### Entering the \"Dimension\" & the # of \"Iterations\""
   ]
  },
  {
   "cell_type": "code",
   "execution_count": 124,
   "id": "66f667de",
   "metadata": {},
   "outputs": [
    {
     "name": "stdout",
     "output_type": "stream",
     "text": [
      "Enter the dimension of your problem: 5\n",
      "Enter the iterations number: 300\n"
     ]
    }
   ],
   "source": [
    "d = int(input(\"Enter the dimension of your problem: \"))\n",
    "ite = int(input(\"Enter the iterations number: \"))"
   ]
  },
  {
   "cell_type": "markdown",
   "id": "0e95c5d0",
   "metadata": {},
   "source": [
    "******************"
   ]
  },
  {
   "cell_type": "markdown",
   "id": "d77ffaec",
   "metadata": {},
   "source": [
    "### Nelder - Mead"
   ]
  },
  {
   "cell_type": "markdown",
   "id": "863b62b9",
   "metadata": {},
   "source": [
    "#### Defining the Simplex"
   ]
  },
  {
   "cell_type": "code",
   "execution_count": 73,
   "id": "fb6d9a9d",
   "metadata": {},
   "outputs": [],
   "source": [
    "S = np.ndarray(shape=(d+1,d), dtype = float)\n",
    "S = ([[0.8,0.5,0.1,0.1,0.1], [1,0,0.5,0.7,0.005], [0.01,0.5,0.9,0.7,0.6],\n",
    "              [0.8,0.75,0.45,0.9,0.1], [0,1,0.2,0.95,0.4], [0.15,0.33,0.5,0.7,0.1]])\n",
    "# print(S)"
   ]
  },
  {
   "cell_type": "markdown",
   "id": "e7a8c028",
   "metadata": {},
   "source": [
    "#### Defining a specific function for \"Ranking\" the simplex"
   ]
  },
  {
   "cell_type": "code",
   "execution_count": 74,
   "id": "659c5459",
   "metadata": {},
   "outputs": [],
   "source": [
    "def ranking(S, fun = objective_function):\n",
    "    \n",
    "    \"\"\"\n",
    "    param S: Simplex\n",
    "    param fun: the function we want to rank our simplex according to it\n",
    "    \"\"\"\n",
    "    L = []                 # Defining this list L in order to compare the elements inside it afterwards \n",
    "    SS = np.zeros((d+1,d))\n",
    "    for s in S:       \n",
    "        L.append(fun(s)[0])\n",
    "    K = max(L)               # Finding the max of L as our criterion to rank S, we will replace the min of S \n",
    "                                                                #  by (max + 1) \n",
    "    for i in range(len(L)):\n",
    "        m = min(L)\n",
    "        j = L.index(m)\n",
    "        SS[i] = S[j]      # Inserting the element of S in SS with the index of the smallest element in L\n",
    "        L[j] = K+1        # Replacing the min by (max + 1) in L, so it's not the min anymore \n",
    "        \n",
    "    return SS"
   ]
  },
  {
   "cell_type": "markdown",
   "id": "ac791fdb",
   "metadata": {},
   "source": [
    "#### Defining Nelder-Mead for one step"
   ]
  },
  {
   "cell_type": "code",
   "execution_count": 78,
   "id": "f444549d",
   "metadata": {},
   "outputs": [],
   "source": [
    "def nelder_Mead_Step(S, fun = objective_function): \n",
    "    \n",
    "    \"\"\"\n",
    "    param S: Simplex\n",
    "    param fun: the function we want to rank our simplex according to it\n",
    "    \"\"\"\n",
    "     \n",
    "    O = 1/d\n",
    "    R = S\n",
    "    j = R[-1]         # the last element in R (the element with the greatest function value)\n",
    "    xc = 0            \n",
    "    for b in range(len(R) - 1):\n",
    "        xc += O*R[b]              # Finding the barecenter \n",
    "        \n",
    "    xr = j + 2*(xc - j)        # Calculating xr\n",
    "    \n",
    "    # Function value of some important points \n",
    "    fr = fun(xr)    \n",
    "    f0 = fun(R[0])       # Function value of the first element in the simplex (the argmin of f)\n",
    "    fn_1 = fun(R[-2])    # Function value of the penultimate element\n",
    "    fj = fun(j)          # Function value of the last element (the argmax) (the one to replace)\n",
    "    \n",
    "    \n",
    "    # 1st Case \n",
    "    if (fr < f0):\n",
    "        xe = j + 3*(xc - j)    #Expansion \n",
    "        fe = fun(xe)\n",
    "        if (fe < fr):\n",
    "            R[-1] = xe\n",
    "        else:\n",
    "            R[-1] = xr\n",
    "    # 2nd Case\n",
    "    elif ((f0 <= fr) and (fr <= fn_1)):\n",
    "          R[-1] = xr\n",
    "    # 3rd Case\n",
    "    elif ((fn_1 < fr) and (fr <= fj)):\n",
    "        x_tilde = j + 1.5*(xc - j)      #Trying to find some thing better\n",
    "        f_tilde = fun(x_tilde)\n",
    "        if (f_tilde < fr):\n",
    "            R[-1] = x_tilde\n",
    "        else: \n",
    "            R[-1] = xr\n",
    "    # 4th Case\n",
    "    else:\n",
    "        x_hat = j + 0.5*(xc - j)       # The Last attempt to avoid failure step \n",
    "        f_hat = fun(x_hat)\n",
    "        if (f_hat < fj):\n",
    "            R[-1] = x_hat\n",
    "        else:                          # Failure Step :(\n",
    "            for i in range(1,len(R)):\n",
    "                R[i] = (R[i] + R[0])/2     #reconstructing the simplex\n",
    "    R = ranking(R)\n",
    "                \n",
    "    return R"
   ]
  },
  {
   "cell_type": "markdown",
   "id": "5edfd72b",
   "metadata": {},
   "source": [
    "#### Defining the Nelder-Mead for a given function "
   ]
  },
  {
   "cell_type": "code",
   "execution_count": 125,
   "id": "da68ee1b",
   "metadata": {},
   "outputs": [],
   "source": [
    "def nelder_Mead(S, K = ite, fun = objective_function, algorithm = nelder_Mead_Step):\n",
    "    \n",
    "    \"\"\"\n",
    "    param S: Simplex\n",
    "    param K: Number of iterations\n",
    "    param fun: the function we want to rank our simplex according to it\n",
    "    \"\"\"\n",
    "    R = ranking(S)             # Ranking the initial simplex\n",
    "    R = nelder_Mead_Step(R)    # Improving our simplex by using nelder-mead step \n",
    "    L = []\n",
    "    L.append(objective_function(R[0]))\n",
    "    for k in range(K):\n",
    "        R = nelder_Mead_Step(R)         # Ranking our new simplex again and again at each iteration \n",
    "        L.append(objective_function(R[0]))   # Trying to imporove our simplex more and more \n",
    "#     print(\"R = \",R)\n",
    "#     print(\"L = \", L)\n",
    "    return (R, L)"
   ]
  },
  {
   "cell_type": "markdown",
   "id": "e773d090",
   "metadata": {},
   "source": [
    "#### Finding the Optimal Values of the Parameters "
   ]
  },
  {
   "cell_type": "code",
   "execution_count": 130,
   "id": "c8b88ba5",
   "metadata": {},
   "outputs": [],
   "source": [
    "res_1 = nelder_Mead(S)"
   ]
  },
  {
   "cell_type": "code",
   "execution_count": 131,
   "id": "7d990fb0",
   "metadata": {},
   "outputs": [
    {
     "name": "stdout",
     "output_type": "stream",
     "text": [
      "S =  [[1.61811263 0.37431338 0.00228969 0.01854106 0.09137186]\n",
      " [1.60147969 0.38396828 0.00256676 0.01848406 0.08764182]\n",
      " [1.59886857 0.38547767 0.00260864 0.01849719 0.08705952]\n",
      " [1.60137844 0.38396725 0.0025747  0.01865416 0.08764223]\n",
      " [1.60880905 0.37978147 0.00242264 0.01836075 0.08926241]\n",
      " [1.6058659  0.38152588 0.00246786 0.01825156 0.08858804]]\n"
     ]
    }
   ],
   "source": [
    "print(\"S = \", res_1[0])\n",
    "# print(\"L = \", res_2[1])"
   ]
  },
  {
   "cell_type": "code",
   "execution_count": 132,
   "id": "f2bf9dec",
   "metadata": {},
   "outputs": [],
   "source": [
    "xm = res_1[0][0]\n",
    "Vm = objective_function(xm)"
   ]
  },
  {
   "cell_type": "markdown",
   "id": "79d61445",
   "metadata": {},
   "source": [
    "#### $H_{model}$ with Optimal Parameters Vs. $H_{data}$"
   ]
  },
  {
   "cell_type": "code",
   "execution_count": 133,
   "id": "2ae6d2cd",
   "metadata": {},
   "outputs": [
    {
     "data": {
      "image/png": "[encoded data removed]",
      "text/plain": [
       "<Figure size 432x288 with 1 Axes>"
      ]
     },
     "metadata": {
      "needs_background": "light"
     },
     "output_type": "display_data"
    }
   ],
   "source": [
    "plt.close()\n",
    "plt.plot(H_data, color = 'orange', label = '$H_{data}$')\n",
    "plt.plot(Vm[1], color = 'blue', label = '$H_{model}$')\n",
    "plt.grid(which = 'both')\n",
    "plt.ylabel(\"$H_{value}$\", fontsize=20)\n",
    "plt.xlabel(\"Days\", fontsize=20)\n",
    "plt.legend(loc='upper right', fancybox=True, prop={'size':15}).get_frame().set_alpha(0.4)\n",
    "plt.show()"
   ]
  },
  {
   "cell_type": "markdown",
   "id": "7dbd03b8",
   "metadata": {},
   "source": [
    "### Conclusion \n",
    "\n",
    "We observe a very good performance of the ***Nelder-Mead*** algorithm applied to our objective function \n",
    "\n",
    "**300 iterations** were enough to have a very good solution $$x^* = \\begin{bmatrix} c \\\\ \\lambda \\\\ \\alpha \\\\ \\gamma_1 \\\\ \\gamma_2 \\end{bmatrix} = \\begin{bmatrix} 1.61811263 \\\\ 0.37431338 \\\\ 0.00228969 \\\\ 0.01854106 \\\\ 0.09137186 \\end{bmatrix}$$\n",
    "\n",
    "We can imagine that with some more iterations we can reach a perfectly optimal solution with a curve almost the same as the one for the data."
   ]
  },
  {
   "cell_type": "markdown",
   "id": "f95072e6",
   "metadata": {},
   "source": [
    "****************"
   ]
  },
  {
   "cell_type": "markdown",
   "id": "7778f73c",
   "metadata": {},
   "source": [
    "## NEWUOA \n",
    "\n",
    "We are going to use NEWUOA algorithm implemented in the ***PDFO*** library "
   ]
  },
  {
   "cell_type": "code",
   "execution_count": 90,
   "id": "4b5d97e5",
   "metadata": {},
   "outputs": [],
   "source": [
    "def objective_Function(x0, h = 0.01, y_init = Y_init):\n",
    "    \n",
    "    \"\"\"  \n",
    "    param x0: the values of c, lambda, alpha, gamma1, and gamma2 \n",
    "    param h: is the step size, 0.01 as default value \n",
    "    param y_init: the initialization of Euler's Method\n",
    "    \"\"\"\n",
    "    \n",
    "    S = 0\n",
    "    L = []\n",
    "    Y = y_init\n",
    "    L.append(Y[2])\n",
    "    \n",
    "    for t in range(n):\n",
    "        TS = np.arange(t, t+1, h)\n",
    "        for tt in TS:\n",
    "            Y = euler_Method(tt, Y, x0)\n",
    "        L.append(Y[2])\n",
    "        S += (Y[2] - H_data[t])**2  \n",
    "\n",
    "        \n",
    "    return S"
   ]
  },
  {
   "cell_type": "code",
   "execution_count": 92,
   "id": "82182078",
   "metadata": {},
   "outputs": [
    {
     "name": "stderr",
     "output_type": "stream",
     "text": [
      "D:\\Anaconda\\lib\\site-packages\\pdfo\\_dependencies.py:3149: Warning: pdfo: extreme barrier is invoked; function values that are NaN or larger than hugefun=1.2676506002282294e+30 are replaced by hugefun.\n",
      "  warnings.warn(warn_message, Warning)\n"
     ]
    },
    {
     "data": {
      "text/plain": [
       "OptimizeResult(fhist=array([7.80813867e-06, 6.98439912e-06, 8.12916294e-06, 8.57541466e-06,\n",
       "       9.21362827e-06, 9.47035667e-06, 8.75580612e-06, 8.17522031e-01,\n",
       "       1.26765060e+30, 1.26765060e+30, 1.26765060e+30, 9.57965555e-06,\n",
       "       9.46142999e-06, 7.10165427e-06, 8.95309166e-06, 1.05776691e-05,\n",
       "       2.66362091e-06, 6.20681942e-07, 8.95348151e-06, 1.97167227e-06,\n",
       "       2.81342676e-05, 9.48600500e-04, 3.13678983e-04, 4.63567931e-06,\n",
       "       6.86053193e-06, 4.28124089e-06, 2.91140841e-06, 2.52229752e-05,\n",
       "       6.30824527e-08, 7.93487118e-07, 2.11235676e-07, 8.89184148e-07,\n",
       "       1.00303043e-07, 4.76343476e-07, 1.50847034e-06, 3.73081622e-07,\n",
       "       1.56556959e-06, 3.85524523e-07, 1.21782903e-07, 6.94319127e-08,\n",
       "       1.09080481e-07, 6.33675052e-08, 6.84623174e-08, 9.32741687e-08,\n",
       "       6.87359442e-08, 6.12809273e-08, 5.89561049e-08, 7.29121734e-08,\n",
       "       5.75005073e-08, 6.04234657e-08, 5.53325614e-08, 5.47012936e-08,\n",
       "       7.54956895e-08, 5.56197319e-08, 5.48683845e-08, 5.76559611e-08,\n",
       "       5.93386368e-08, 5.55626259e-08, 6.23830807e-08, 5.53076887e-08,\n",
       "       5.48869617e-08, 5.52803790e-08, 5.49094765e-08, 5.47793445e-08,\n",
       "       5.43886514e-08, 5.43243735e-08, 5.42516527e-08, 5.42499324e-08,\n",
       "       5.42245159e-08, 5.42266756e-08, 5.42050574e-08, 5.41655891e-08,\n",
       "       5.41456626e-08, 5.40625324e-08, 5.39578748e-08, 5.39661056e-08,\n",
       "       5.42915801e-08, 5.38772454e-08, 5.37731409e-08, 5.37392622e-08,\n",
       "       5.36979313e-08, 5.34535197e-08, 5.28978887e-08, 5.29426137e-08,\n",
       "       5.67728932e-08, 5.21992247e-08, 5.18698529e-08, 5.15210564e-08,\n",
       "       5.20016404e-08, 5.49564595e-08, 5.02345739e-08, 5.03913169e-08,\n",
       "       5.12436700e-08, 5.01608844e-08, 5.01757690e-08, 5.07066426e-08,\n",
       "       4.96151189e-08, 4.92019403e-08, 4.88699092e-08, 4.87237673e-08,\n",
       "       4.84782616e-08, 4.81605702e-08, 4.76341868e-08, 4.69700086e-08,\n",
       "       4.69370846e-08, 4.70699100e-08, 4.60168672e-08, 4.56696487e-08,\n",
       "       4.55545872e-08, 4.55122401e-08, 4.54239846e-08, 4.52909923e-08,\n",
       "       4.50393112e-08, 4.49510028e-08, 4.45095610e-08, 4.43408460e-08,\n",
       "       4.54711826e-08, 5.67692143e-08, 4.35417794e-08, 4.40904688e-08,\n",
       "       4.44281524e-08, 4.35758830e-08, 4.37234550e-08, 4.35989689e-08,\n",
       "       4.38801874e-08, 4.34504332e-08, 4.34707987e-08, 4.36698909e-08,\n",
       "       4.34062139e-08, 4.33577292e-08, 4.33642282e-08, 4.34186101e-08,\n",
       "       4.33158241e-08, 4.32551663e-08, 4.31401570e-08, 4.35496206e-08,\n",
       "       4.32774879e-08, 4.30631282e-08, 4.30502720e-08, 4.30348241e-08,\n",
       "       4.30188032e-08, 4.29981855e-08, 4.28874020e-08, 4.28726273e-08,\n",
       "       4.28679948e-08, 4.28495305e-08, 4.27823661e-08, 4.27289427e-08,\n",
       "       4.26902233e-08, 4.26717373e-08, 4.26898657e-08, 4.26773489e-08,\n",
       "       4.26970808e-08, 4.30874356e-08, 4.25571261e-08, 4.25332125e-08,\n",
       "       4.25020386e-08, 4.24811550e-08, 4.24283404e-08, 4.24544519e-08,\n",
       "       4.26210170e-08, 4.24295667e-08, 4.26555962e-08, 4.24424602e-08,\n",
       "       4.24412053e-08, 4.24162591e-08, 4.24207844e-08, 4.24288235e-08,\n",
       "       4.24206047e-08, 4.24182440e-08, 4.24119031e-08, 4.24057516e-08,\n",
       "       4.24103716e-08, 4.24104594e-08, 4.24006014e-08, 4.24004948e-08,\n",
       "       4.26630641e-08, 4.24000897e-08, 4.24102424e-08, 4.24060410e-08,\n",
       "       4.23960861e-08, 4.24032574e-08, 4.24573765e-08, 4.24016193e-08,\n",
       "       4.24792431e-08, 4.23941051e-08, 4.24312633e-08, 4.23819542e-08,\n",
       "       4.23706781e-08, 4.23606055e-08, 4.23578144e-08, 4.23485977e-08,\n",
       "       4.23231214e-08, 4.23242279e-08, 4.23560593e-08, 4.23149129e-08,\n",
       "       4.23234553e-08, 4.23148366e-08, 4.22832616e-08, 4.22370868e-08,\n",
       "       4.21779017e-08, 4.20620822e-08, 4.18314573e-08, 4.13549627e-08,\n",
       "       4.04159478e-08, 3.91790439e-08, 3.61259397e-08, 3.45961620e-08,\n",
       "       3.15408156e-08, 3.10228739e-08, 3.10576058e-08, 5.80270019e-08,\n",
       "       4.32165023e-08, 3.04253038e-08, 3.30369325e-08, 3.01514423e-08,\n",
       "       3.05317091e-08, 3.00424344e-08, 2.94981112e-08, 2.92772076e-08,\n",
       "       2.91216004e-08, 2.91157799e-08, 2.90549049e-08, 2.89504815e-08,\n",
       "       2.89298175e-08, 2.88438158e-08, 2.87738975e-08, 2.88289981e-08,\n",
       "       2.92967528e-08, 2.87258382e-08, 2.87028087e-08, 2.86987831e-08,\n",
       "       2.88219972e-08, 2.86752835e-08, 2.86636999e-08, 2.86498277e-08,\n",
       "       2.86289140e-08, 2.86243305e-08, 2.90987033e-08, 2.85982424e-08,\n",
       "       2.85803526e-08, 2.85541618e-08, 2.85160227e-08, 2.84757557e-08,\n",
       "       2.88243679e-08, 3.79252587e-08, 2.86174790e-08, 2.88333775e-08,\n",
       "       2.86439558e-08, 2.84215349e-08, 2.85021136e-08, 2.85533409e-08,\n",
       "       2.84585521e-08, 2.84560899e-08, 2.84182887e-08, 2.84361384e-08,\n",
       "       2.84236022e-08, 2.89244998e-08, 2.83958448e-08, 2.83704642e-08,\n",
       "       2.83444057e-08, 2.83497253e-08, 2.83947193e-08, 2.83458571e-08,\n",
       "       2.83485054e-08, 2.83260961e-08, 2.83429176e-08, 2.85916061e-08,\n",
       "       2.83151135e-08, 2.83096103e-08, 2.83109960e-08, 2.82949818e-08,\n",
       "       2.82843318e-08, 2.82734025e-08, 2.82649072e-08, 2.82636476e-08,\n",
       "       2.89896591e-08, 2.82421929e-08, 2.82128981e-08, 2.81610019e-08,\n",
       "       2.80745326e-08, 2.79723773e-08, 2.78790997e-08, 2.77561834e-08,\n",
       "       2.77752913e-08, 4.70927492e-08, 2.77164628e-08, 2.82422326e-08,\n",
       "       2.74694545e-08, 2.75221918e-08, 2.82496930e-08, 2.74558684e-08,\n",
       "       2.76200527e-08, 2.74650014e-08, 2.74433212e-08, 2.74415615e-08,\n",
       "       2.75434727e-08, 2.74642568e-08, 2.74570789e-08, 2.74400996e-08,\n",
       "       2.74700219e-08, 2.74354210e-08, 2.74395271e-08, 2.76523694e-08,\n",
       "       2.74372838e-08, 2.74314009e-08, 2.74277694e-08, 2.74312262e-08,\n",
       "       2.74280276e-08, 2.74255533e-08, 2.74215369e-08, 2.74136223e-08,\n",
       "       2.74025882e-08, 2.73880604e-08, 2.73805982e-08, 2.73730086e-08,\n",
       "       2.73602532e-08, 2.73379637e-08, 2.73200895e-08, 2.73087601e-08,\n",
       "       2.73029115e-08, 2.73076053e-08, 2.72671794e-08, 2.72418790e-08,\n",
       "       2.72287050e-08, 2.72340057e-08, 2.72288804e-08, 2.72278110e-08,\n",
       "       2.72288982e-08, 2.72286567e-08, 2.72259959e-08, 2.72231494e-08,\n",
       "       2.72187218e-08, 2.72107495e-08, 2.72049537e-08, 2.71879725e-08,\n",
       "       2.71632022e-08, 2.71053391e-08, 2.70569631e-08, 2.69142737e-08,\n",
       "       2.67340914e-08, 2.67767773e-08, 2.76701230e-08, 2.78359131e-08,\n",
       "       5.39393321e-08, 2.67679887e-08, 2.73696269e-08, 2.68290764e-08,\n",
       "       2.67487514e-08, 2.67449508e-08, 2.67658734e-08, 2.67240593e-08,\n",
       "       2.67132574e-08, 2.67071599e-08, 2.67008112e-08, 2.66994922e-08,\n",
       "       2.67079882e-08, 2.67282602e-08, 2.66948873e-08, 2.66906114e-08,\n",
       "       2.66820177e-08, 2.66700498e-08, 2.66522962e-08, 2.66903710e-08,\n",
       "       2.66502240e-08, 2.66494850e-08, 2.66628140e-08, 2.66438198e-08,\n",
       "       2.66392530e-08, 2.66299422e-08, 2.66187994e-08, 2.66005935e-08,\n",
       "       2.65858614e-08, 2.65695728e-08, 2.65527604e-08, 2.65175217e-08,\n",
       "       2.64777317e-08, 2.63957399e-08, 2.63249415e-08, 2.61903517e-08,\n",
       "       2.62709366e-08, 2.62394350e-08, 2.61473137e-08, 2.60736324e-08,\n",
       "       2.59787961e-08, 2.57101288e-08, 2.52354538e-08, 2.49585767e-08,\n",
       "       2.43545011e-08, 2.44697099e-08, 5.44630133e-07, 6.29426056e-08,\n",
       "       2.65641469e-08, 2.81539769e-08, 2.52706982e-08, 3.14018804e-08,\n",
       "       2.46130378e-08, 2.63100123e-08, 2.44023786e-08, 2.49027558e-08,\n",
       "       2.42416633e-08, 2.38651370e-08, 2.35722474e-08, 2.35410223e-08,\n",
       "       2.36976348e-08, 2.34497533e-08, 2.34336838e-08, 2.34575452e-08,\n",
       "       2.34361081e-08, 2.34491194e-08, 2.34921904e-08, 2.34272985e-08,\n",
       "       2.34233723e-08, 2.34262696e-08, 2.34248241e-08, 2.34234956e-08,\n",
       "       2.34266485e-08, 2.34190592e-08, 2.34129733e-08, 2.34054235e-08,\n",
       "       2.33922881e-08, 2.33699085e-08, 2.33398526e-08, 2.33131253e-08,\n",
       "       2.32909885e-08, 2.32509038e-08, 2.32222962e-08, 2.32007017e-08,\n",
       "       2.31983955e-08, 2.34138639e-08, 2.31192756e-08, 2.31060146e-08,\n",
       "       2.30588399e-08, 2.30270067e-08, 2.29698265e-08, 2.29487832e-08,\n",
       "       2.29612633e-08, 2.29681277e-08, 2.29576211e-08, 2.29862670e-08,\n",
       "       2.29365574e-08, 2.29373655e-08, 2.28798034e-08, 2.28738026e-08,\n",
       "       2.28688604e-08, 2.28668179e-08, 2.28607989e-08, 2.28566979e-08,\n",
       "       2.28522980e-08, 2.28449344e-08, 2.28329470e-08, 2.28299515e-08,\n",
       "       2.28252991e-08, 2.28440563e-08, 2.28446702e-08, 2.28303312e-08,\n",
       "       2.28247214e-08, 2.28159914e-08, 2.28118150e-08, 2.28051979e-08,\n",
       "       2.27928994e-08, 2.27885827e-08, 2.27959338e-08, 2.27705491e-08,\n",
       "       2.27634655e-08, 2.27594127e-08, 2.27474716e-08, 2.27397120e-08,\n",
       "       2.27184068e-08, 2.26926183e-08, 2.26402253e-08, 2.26095799e-08,\n",
       "       2.25487734e-08, 2.25235205e-08, 2.23772969e-08, 2.21892187e-08,\n",
       "       2.18112374e-08, 2.11100697e-08, 1.97614290e-08, 2.31951543e-08,\n",
       "       5.52305433e-07, 2.09173476e-08, 6.51453988e-07, 2.31883406e-08,\n",
       "       2.24192576e-08, 1.95715290e-08, 1.96195226e-08, 1.97975619e-08,\n",
       "       1.97326565e-08, 1.95663113e-08, 1.98078101e-08, 1.94250606e-08,\n",
       "       2.04338203e-08, 1.94199692e-08, 1.94607121e-08, 1.94275733e-08,\n",
       "       1.94178799e-08, 1.94118208e-08, 1.94058769e-08, 1.94003747e-08,\n",
       "       1.94004685e-08, 1.94483218e-08, 1.93917366e-08, 1.93910131e-08,\n",
       "       1.93922164e-08, 1.93894210e-08, 1.93901327e-08, 1.93897701e-08,\n",
       "       1.93890415e-08, 1.93875548e-08, 1.93863615e-08, 1.93844121e-08,\n",
       "       1.93822832e-08, 1.93798023e-08, 1.93751663e-08, 1.93678614e-08,\n",
       "       1.93523809e-08, 1.93240034e-08, 1.92867867e-08, 1.93041287e-08,\n",
       "       1.93495665e-08, 1.92550684e-08, 1.92052014e-08, 1.91402963e-08,\n",
       "       1.91060195e-08, 1.93008835e-08, 3.19561669e-08, 1.91817525e-08,\n",
       "       1.91593232e-08, 1.91743782e-08, 1.91070547e-08, 1.92094665e-08,\n",
       "       1.91085874e-08, 1.91657862e-08, 1.91290899e-08, 1.91087190e-08,\n",
       "       1.91089481e-08, 1.91033951e-08, 1.91014594e-08, 1.90989890e-08,\n",
       "       1.90948260e-08, 1.90904144e-08, 1.90840917e-08, 1.90795575e-08,\n",
       "       1.90818559e-08, 1.90859432e-08, 1.90798123e-08, 1.90865016e-08,\n",
       "       1.90768151e-08, 1.90728695e-08, 1.90635002e-08, 1.90459910e-08,\n",
       "       1.90324474e-08, 1.90275953e-08, 1.90098444e-08, 1.90041234e-08,\n",
       "       1.89960048e-08, 1.89802705e-08, 1.89605006e-08, 1.89426190e-08,\n",
       "       1.89120622e-08, 1.89536910e-08, 2.12665342e-08, 1.88412287e-08,\n",
       "       2.00016429e-08, 1.87717291e-08, 1.87986454e-08, 1.87828116e-08,\n",
       "       1.87869202e-08, 1.88464773e-08, 1.87670662e-08, 1.87610102e-08,\n",
       "       1.87527976e-08, 1.87465684e-08, 1.87325955e-08, 1.87259966e-08,\n",
       "       1.86961471e-08, 1.86645755e-08, 1.86423956e-08, 1.86256971e-08,\n",
       "       1.85907770e-08, 1.85442165e-08, 1.84406626e-08, 1.82655257e-08,\n",
       "       1.78454011e-08, 1.75295765e-08, 1.78034205e-08, 3.99639336e-07,\n",
       "       2.12908922e-08, 1.80971874e-08, 2.08234601e-08, 1.98254156e-08,\n",
       "       1.93633240e-08, 1.78862001e-08, 1.94413480e-08, 2.13137809e-08,\n",
       "       1.72894507e-08, 1.72485877e-08, 1.71162309e-08, 1.69789549e-08,\n",
       "       1.69152850e-08, 1.68834727e-08, 1.68753200e-08, 1.69089408e-08,\n",
       "       1.68661629e-08, 1.68649192e-08, 1.68682154e-08, 1.68610421e-08,\n",
       "       1.68570911e-08, 1.68556008e-08, 1.68515475e-08, 1.68491562e-08,\n",
       "       1.68475197e-08, 1.68455519e-08, 1.68431477e-08, 1.68432707e-08,\n",
       "       1.68496852e-08, 1.68406535e-08, 1.68369575e-08, 1.68318805e-08,\n",
       "       1.68246298e-08, 1.68140549e-08, 1.68007727e-08, 1.67765087e-08,\n",
       "       1.67256805e-08, 1.66400836e-08, 1.65582933e-08, 1.62580805e-08,\n",
       "       1.59466545e-08, 1.55017396e-08, 1.49685372e-08, 1.50464768e-08,\n",
       "       1.78017927e-08, 1.43620140e-08, 1.47985941e-08, 1.43734633e-08,\n",
       "       1.43771599e-08, 1.43063110e-08, 1.42457490e-08, 1.41300307e-08,\n",
       "       1.40036716e-08, 1.39829550e-08, 1.39706586e-08, 1.40058239e-08,\n",
       "       1.39151663e-08, 1.38719098e-08, 1.38234951e-08, 1.37494425e-08,\n",
       "       1.36753682e-08, 1.36594621e-08, 1.36550097e-08, 1.36568259e-08,\n",
       "       1.36573885e-08, 1.36560749e-08, 1.36877056e-08, 1.36518524e-08,\n",
       "       1.36509689e-08, 1.36479497e-08, 1.36469660e-08, 1.36467960e-08,\n",
       "       1.36432201e-08, 1.36447893e-08, 1.36431004e-08, 1.36464821e-08,\n",
       "       1.36506656e-08, 1.36404534e-08, 1.36389981e-08, 1.36393231e-08,\n",
       "       1.36398249e-08, 1.36381659e-08, 1.36365197e-08, 1.36326927e-08,\n",
       "       1.36265789e-08, 1.36180227e-08, 1.36043765e-08, 1.35928163e-08,\n",
       "       1.35492770e-08, 1.35065317e-08, 1.33932053e-08, 1.31936053e-08,\n",
       "       1.28472527e-08, 1.26921508e-08, 1.29853698e-08, 1.35825489e-08,\n",
       "       1.27798884e-08, 1.26892111e-08, 1.26395338e-08, 1.26131292e-08,\n",
       "       1.26045521e-08, 1.26221906e-08, 1.25912251e-08, 1.25963831e-08,\n",
       "       1.26236136e-08, 1.25837374e-08, 1.25831996e-08, 1.25797363e-08,\n",
       "       1.25818414e-08, 1.25818257e-08, 1.25823166e-08, 1.25837837e-08,\n",
       "       1.25772214e-08, 1.25745259e-08, 1.25711821e-08, 1.25739205e-08,\n",
       "       1.25741825e-08, 1.25677600e-08, 1.25628054e-08, 1.25532895e-08,\n",
       "       1.25381923e-08, 1.25192984e-08, 1.25275416e-08, 1.25259176e-08,\n",
       "       1.25169389e-08, 1.34813881e-08, 1.25110024e-08, 1.25129363e-08,\n",
       "       1.25092712e-08, 1.25086558e-08, 1.25096036e-08, 1.25137122e-08,\n",
       "       1.25016928e-08, 1.25005643e-08, 1.25060393e-08, 1.25096510e-08,\n",
       "       1.24995744e-08, 1.25006320e-08, 1.24998480e-08, 1.24991710e-08,\n",
       "       1.24988649e-08, 1.25002286e-08, 1.24975513e-08, 1.24966291e-08,\n",
       "       1.24952039e-08, 1.24927429e-08, 1.24904015e-08, 1.24889846e-08,\n",
       "       1.24848855e-08, 1.24844139e-08, 1.24770179e-08, 1.24661812e-08,\n",
       "       1.24458183e-08, 1.24100903e-08, 1.23272194e-08, 1.21809438e-08,\n",
       "       1.18719173e-08, 1.13336893e-08, 1.03157360e-08, 8.65353695e-09]), fun=8.653536947907663e-09, message='Return from newuoa because the target function value is achieved.', method='newuoa', nfev=748, status=1, success=True, warnings=['pdfo: extreme barrier is invoked; function values that are NaN or larger than hugefun=1.2676506002282294e+30 are replaced by hugefun.'], x=array([1.50573959, 0.44266261, 0.00432188, 0.02448721, 0.0541281 ]))"
      ]
     },
     "execution_count": 92,
     "metadata": {},
     "output_type": "execute_result"
    }
   ],
   "source": [
    "pdfo(objective_Function, x0, method='NEWUOA', options={'maxfev': 10000, 'ftarget': 1e-8})"
   ]
  },
  {
   "cell_type": "code",
   "execution_count": 93,
   "id": "d5a86dba",
   "metadata": {},
   "outputs": [],
   "source": [
    "xn = np.array([1.50573959, 0.44266261, 0.00432188, 0.02448721, 0.0541281])\n",
    "Vn = objective_function(xn)"
   ]
  },
  {
   "cell_type": "markdown",
   "id": "964770f0",
   "metadata": {},
   "source": [
    "#### $H_{model}$ with Optimal Parameters Vs. $H_{data}$"
   ]
  },
  {
   "cell_type": "code",
   "execution_count": 112,
   "id": "2cd6d064",
   "metadata": {},
   "outputs": [
    {
     "data": {
      "image/png": "[encoded data removed]",
      "text/plain": [
       "<Figure size 432x288 with 1 Axes>"
      ]
     },
     "metadata": {
      "needs_background": "light"
     },
     "output_type": "display_data"
    }
   ],
   "source": [
    "plt.close()\n",
    "plt.plot(H_data, color = 'orange', label = '$H_{data}$')\n",
    "plt.plot(Vn[1], color = 'red', label = '$H_{model}$')\n",
    "plt.grid(which = 'both')\n",
    "plt.ylabel(\"$H_{value}$\", fontsize=20)\n",
    "plt.xlabel(\"Days\", fontsize=20)\n",
    "plt.legend(loc='upper right', fancybox=True, prop={'size':15}).get_frame().set_alpha(0.4)\n",
    "plt.show()"
   ]
  },
  {
   "cell_type": "markdown",
   "id": "08e027ba",
   "metadata": {},
   "source": [
    "### Conclusion \n",
    "\n",
    "As what we observed in the ***Nelder-Mead*** algorithm, ***NEWUOA*** came to emphasize the results with a very close solution to the one by Nelder-Mead.\n",
    "\n",
    "Again, with $f_{target} = 10^{-8}$, which is not that small for our objective function, we got a very good solution  \n",
    "$$x^* = \\begin{bmatrix} c \\\\ \\lambda \\\\ \\alpha \\\\ \\gamma_1 \\\\ \\gamma_2 \\end{bmatrix} = \\begin{bmatrix} 1.50573959 \\\\ 0.44266261 \\\\ 0.00432188 \\\\ 0.02448721 \\\\ 0.0541281 \\end{bmatrix}$$\n",
    "\n",
    "What about smaller $f_{target}$? let's combine everything together and see!"
   ]
  },
  {
   "cell_type": "markdown",
   "id": "c8dca7df",
   "metadata": {},
   "source": [
    "****************"
   ]
  },
  {
   "cell_type": "markdown",
   "id": "7dd68e7a",
   "metadata": {},
   "source": [
    "## All Together!\n",
    "\n",
    "We are going to plot $H_{model}$ Vs. $H_{data}$ we obtained by the 2 algorithms applied above for more accurate solutions \n",
    "\n",
    "Basically:-\n",
    "1. Nelder-Mead with $10^3$ iterations \n",
    "2. NEWUOA with $f_{target} = 10^{-12}$"
   ]
  },
  {
   "cell_type": "markdown",
   "id": "37875159",
   "metadata": {},
   "source": [
    "##### Nelder_Mead with $10^3$ Iterations"
   ]
  },
  {
   "cell_type": "code",
   "execution_count": 134,
   "id": "ae633846",
   "metadata": {},
   "outputs": [],
   "source": [
    "res_2 = nelder_Mead(S, 1000)"
   ]
  },
  {
   "cell_type": "code",
   "execution_count": 141,
   "id": "4e4eb2b6",
   "metadata": {},
   "outputs": [],
   "source": [
    "xm_2 = res_1[0][0]\n",
    "Vm_2 = objective_function(xm)"
   ]
  },
  {
   "cell_type": "markdown",
   "id": "4c8a1be6",
   "metadata": {},
   "source": [
    "##### NEWUOA with $f_{target} = 10^{-12}$"
   ]
  },
  {
   "cell_type": "code",
   "execution_count": 153,
   "id": "2cdf726c",
   "metadata": {},
   "outputs": [
    {
     "data": {
      "text/plain": [
       "OptimizeResult(fhist=array([7.80813867e-06, 6.98439912e-06, 8.12916294e-06, ...,\n",
       "       3.29104374e-09, 3.29107117e-09, 3.29104436e-09]), fun=3.2910430736958852e-09, message='Return from newuoa because the lower bound for the trust region radius is reached.', method='newuoa', nfev=2444, status=0, success=True, warnings=['pdfo: extreme barrier is invoked; function values that are NaN or larger than hugefun=1.2676506002282294e+30 are replaced by hugefun.'], x=array([1.51479209, 0.36209286, 0.00248023, 0.02066094, 0.07937818]))"
      ]
     },
     "execution_count": 153,
     "metadata": {},
     "output_type": "execute_result"
    }
   ],
   "source": [
    "pdfo(objective_Function, x0, method='NEWUOA', options={'maxfev': 1000000, 'ftarget': 1e-12})"
   ]
  },
  {
   "cell_type": "code",
   "execution_count": 154,
   "id": "99b74790",
   "metadata": {},
   "outputs": [],
   "source": [
    "xn_2 = np.array([1.51479209, 0.36209286, 0.00248023, 0.02066094, 0.07937818])\n",
    "Vn_2 = objective_function(xn)"
   ]
  },
  {
   "cell_type": "markdown",
   "id": "8c5ec1dd",
   "metadata": {},
   "source": [
    "### The Power of the Inverse Type Problem in a Graph! "
   ]
  },
  {
   "cell_type": "code",
   "execution_count": 155,
   "id": "fb56d484",
   "metadata": {},
   "outputs": [
    {
     "data": {
      "image/png": "[encoded data removed]",
      "text/plain": [
       "<Figure size 432x288 with 1 Axes>"
      ]
     },
     "metadata": {
      "needs_background": "light"
     },
     "output_type": "display_data"
    }
   ],
   "source": [
    "plt.close()\n",
    "plt.plot(H_data, color = 'orange', label = '$H_{data}$')\n",
    "plt.plot(Vm_2[1], color = 'blue', label = '$H_{nel.-mead}$')\n",
    "plt.plot(Vn_2[1], color = 'red', label = '$H_{NEWUOA}$')\n",
    "plt.grid(which = 'both')\n",
    "plt.ylabel(\"$H_{value}$\", fontsize=20)\n",
    "plt.xlabel(\"Days\", fontsize=20)\n",
    "plt.legend(loc='upper right', fancybox=True, prop={'size':14}).get_frame().set_alpha(0.4)\n",
    "plt.show()"
   ]
  },
  {
   "cell_type": "markdown",
   "id": "05e3c08a",
   "metadata": {},
   "source": [
    "## Conclusion \n",
    "\n",
    "1. The curves show how much these 2 algorithms are powerful. They have a very good, and pretty fast convergence, which coincide with what we have seen during the course.\n",
    "2. It's hard to say that one of them is better than the other. However, we may observe that ***Nelder-Mead*** gave, somehow, a better curve than ***NEWUOA***.\n",
    "3. It's obviously observed how much it differs between the direct and inverse problems, which reflects the power of the ***Inverse Type Problems Principle***."
   ]
  },
  {
   "cell_type": "code",
   "execution_count": null,
   "id": "3d37c655",
   "metadata": {},
   "outputs": [],
   "source": []
  }
 ],
 "metadata": {
  "kernelspec": {
   "display_name": "Python 3 (ipykernel)",
   "language": "python",
   "name": "python3"
  },
  "language_info": {
   "codemirror_mode": {
    "name": "ipython",
    "version": 3
   },
   "file_extension": ".py",
   "mimetype": "text/x-python",
   "name": "python",
   "nbconvert_exporter": "python",
   "pygments_lexer": "ipython3",
   "version": "3.9.7"
  }
 },
 "nbformat": 4,
 "nbformat_minor": 5
}
